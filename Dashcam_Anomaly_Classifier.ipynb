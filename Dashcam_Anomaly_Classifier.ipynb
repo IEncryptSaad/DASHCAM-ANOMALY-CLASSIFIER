{
  "nbformat": 4,
  "nbformat_minor": 0,
  "metadata": {
    "colab": {
      "provenance": [],
      "gpuType": "T4",
      "authorship_tag": "ABX9TyPWwj+QesqLfX6Qb6vmUi8k",
      "include_colab_link": true
    },
    "kernelspec": {
      "name": "python3",
      "display_name": "Python 3"
    },
    "language_info": {
      "name": "python"
    },
    "accelerator": "GPU"
  },
  "cells": [
    {
      "cell_type": "markdown",
      "metadata": {
        "id": "view-in-github",
        "colab_type": "text"
      },
      "source": [
        "<a href=\"https://colab.research.google.com/github/IEncryptSaad/DASHCAM-ANOMALY-CLASSIFIER/blob/main/Dashcam_Anomaly_Classifier.ipynb\" target=\"_parent\"><img src=\"https://colab.research.google.com/assets/colab-badge.svg\" alt=\"Open In Colab\"/></a>"
      ]
    },
    {
      "cell_type": "markdown",
      "source": [
        "**DASHCAM ANOMALY CLASSIFIER**\n",
        "\n",
        "*(Classify unsafe driving events using image classification and CNNs)*"
      ],
      "metadata": {
        "id": "0kxiVByytQ_5"
      }
    },
    {
      "cell_type": "code",
      "source": [
        "## STEP NO. 1: Setup & Imports"
      ],
      "metadata": {
        "id": "Al7FO6k6uunk"
      },
      "execution_count": null,
      "outputs": []
    },
    {
      "cell_type": "code",
      "source": [
        "# Install packages\n",
        "!pip install -q tensorflow opencv-python-headless\n",
        "\n",
        "# 📚 Imports\n",
        "import os\n",
        "import cv2\n",
        "import numpy as np\n",
        "import matplotlib.pyplot as plt\n",
        "import tensorflow as tf\n",
        "from tensorflow.keras.preprocessing.image import ImageDataGenerator\n",
        "from tensorflow.keras.applications import MobileNetV2\n",
        "from tensorflow.keras.models import Model\n",
        "from tensorflow.keras.layers import Dense, GlobalAveragePooling2D\n",
        "from tensorflow.keras.optimizers import Adam\n",
        "from sklearn.metrics import classification_report, confusion_matrix\n"
      ],
      "metadata": {
        "id": "qesaMW2HvAUG"
      },
      "execution_count": null,
      "outputs": []
    },
    {
      "cell_type": "code",
      "source": [],
      "metadata": {
        "id": "NaGQ0wiCwETZ"
      },
      "execution_count": null,
      "outputs": []
    }
  ]
}